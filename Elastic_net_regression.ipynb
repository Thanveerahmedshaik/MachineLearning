{
  "nbformat": 4,
  "nbformat_minor": 0,
  "metadata": {
    "colab": {
      "provenance": [],
      "authorship_tag": "ABX9TyM0BVkvHDOiNyc/y2/eV6yC",
      "include_colab_link": true
    },
    "kernelspec": {
      "name": "python3",
      "display_name": "Python 3"
    },
    "language_info": {
      "name": "python"
    }
  },
  "cells": [
    {
      "cell_type": "markdown",
      "metadata": {
        "id": "view-in-github",
        "colab_type": "text"
      },
      "source": [
        "<a href=\"https://colab.research.google.com/github/Thanveerahmedshaik/MachineLearning/blob/main/Elastic_net_regression.ipynb\" target=\"_parent\"><img src=\"https://colab.research.google.com/assets/colab-badge.svg\" alt=\"Open In Colab\"/></a>"
      ]
    },
    {
      "cell_type": "code",
      "execution_count": 1,
      "metadata": {
        "id": "XkK19bum7fWX"
      },
      "outputs": [],
      "source": [
        "from sklearn.datasets  import load_diabetes\n",
        "from sklearn.linear_model import LinearRegression,Ridge,Lasso,ElasticNet\n",
        "from sklearn.model_selection import train_test_split\n",
        "from sklearn.metrics import r2_score\n",
        "\n",
        "import pandas as pd\n",
        "import numpy as np"
      ]
    },
    {
      "cell_type": "code",
      "source": [
        "X,y = load_diabetes(return_X_y=True)"
      ],
      "metadata": {
        "id": "jsyTRSHi8F1M"
      },
      "execution_count": 2,
      "outputs": []
    },
    {
      "cell_type": "code",
      "source": [
        "X_train,X_test,y_train,y_test = train_test_split(X,y,train_size=0.2,random_state=2)"
      ],
      "metadata": {
        "id": "8dJ7ti2r8NF4"
      },
      "execution_count": 3,
      "outputs": []
    },
    {
      "cell_type": "code",
      "source": [
        "#LinearRegression\n",
        "\n",
        "lr = LinearRegression()\n",
        "lr.fit(X_train,y_train)\n",
        "y_pred = lr.predict(X_test)"
      ],
      "metadata": {
        "id": "nOEx4d988YCe"
      },
      "execution_count": 4,
      "outputs": []
    },
    {
      "cell_type": "code",
      "source": [
        "print('R2score using Linear Regression: ', r2_score(y_test,y_pred))"
      ],
      "metadata": {
        "colab": {
          "base_uri": "https://localhost:8080/"
        },
        "id": "OhUY-zue8pK3",
        "outputId": "fb324172-6414-47fc-eac7-114bfa38d376"
      },
      "execution_count": 6,
      "outputs": [
        {
          "output_type": "stream",
          "name": "stdout",
          "text": [
            "R2score using Linear Regression:  0.4363324180051509\n"
          ]
        }
      ]
    },
    {
      "cell_type": "code",
      "source": [
        "#Ridge regression\n",
        "rr = Ridge(alpha = 0.1)\n",
        "rr.fit(X_train,y_train)\n",
        "y_pred = rr.predict(X_test)"
      ],
      "metadata": {
        "id": "BGF7wHOI8uzS"
      },
      "execution_count": 7,
      "outputs": []
    },
    {
      "cell_type": "code",
      "source": [
        "print('R2score using Ridge regression is : ', r2_score(y_test,y_pred))"
      ],
      "metadata": {
        "colab": {
          "base_uri": "https://localhost:8080/"
        },
        "id": "OL17QY7n9JNm",
        "outputId": "e10bb67b-1a15-4197-a0f8-788ae35714d4"
      },
      "execution_count": 8,
      "outputs": [
        {
          "output_type": "stream",
          "name": "stdout",
          "text": [
            "R2score using Ridge regression is :  0.46111619866671383\n"
          ]
        }
      ]
    },
    {
      "cell_type": "code",
      "source": [
        "#Lasso\n",
        "\n",
        "lasso = Lasso(alpha = 0.1)\n",
        "lasso.fit(X_train,y_train)\n",
        "y_pred = lasso.predict(X_test)\n"
      ],
      "metadata": {
        "id": "y0Gc12_69YTt"
      },
      "execution_count": 9,
      "outputs": []
    },
    {
      "cell_type": "code",
      "source": [
        "print('R2score using Lasso regression is : ', r2_score(y_test,y_pred))"
      ],
      "metadata": {
        "colab": {
          "base_uri": "https://localhost:8080/"
        },
        "id": "E6RKD5xe9xd3",
        "outputId": "71be90d8-3311-4f67-bd1d-392efa4d4ad4"
      },
      "execution_count": 10,
      "outputs": [
        {
          "output_type": "stream",
          "name": "stdout",
          "text": [
            "R2score using Lasso regression is :  0.4527856846095648\n"
          ]
        }
      ]
    },
    {
      "cell_type": "code",
      "source": [
        "## Elastic net is the combination. of both ridge and lasso regression\n",
        "\n",
        "\n",
        "en = ElasticNet(alpha = 0.005,l1_ratio= 0.92)\n",
        "en.fit(X_train,y_train)\n",
        "y_pred = en.predict(X_test)\n"
      ],
      "metadata": {
        "id": "uEuoA26y94qj"
      },
      "execution_count": 30,
      "outputs": []
    },
    {
      "cell_type": "code",
      "source": [
        "print('R2score using ElasticNet regression is : ', r2_score(y_test,y_pred))"
      ],
      "metadata": {
        "colab": {
          "base_uri": "https://localhost:8080/"
        },
        "id": "Cx5VB6rf-VyE",
        "outputId": "266d8c9d-9330-4054-8976-d38188e6ec1a"
      },
      "execution_count": 31,
      "outputs": [
        {
          "output_type": "stream",
          "name": "stdout",
          "text": [
            "R2score using ElasticNet regression is :  0.4632940295863771\n"
          ]
        }
      ]
    },
    {
      "cell_type": "code",
      "source": [],
      "metadata": {
        "id": "AYfqMbFj-cT2"
      },
      "execution_count": null,
      "outputs": []
    }
  ]
}