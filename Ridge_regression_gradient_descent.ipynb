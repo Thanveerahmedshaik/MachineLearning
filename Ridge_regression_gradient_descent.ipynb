{
  "nbformat": 4,
  "nbformat_minor": 0,
  "metadata": {
    "colab": {
      "provenance": [],
      "authorship_tag": "ABX9TyO6vpk0QsFSTWebbwVX0uo1",
      "include_colab_link": true
    },
    "kernelspec": {
      "name": "python3",
      "display_name": "Python 3"
    },
    "language_info": {
      "name": "python"
    }
  },
  "cells": [
    {
      "cell_type": "markdown",
      "metadata": {
        "id": "view-in-github",
        "colab_type": "text"
      },
      "source": [
        "<a href=\"https://colab.research.google.com/github/Thanveerahmedshaik/MachineLearning/blob/main/Ridge_regression_gradient_descent.ipynb\" target=\"_parent\"><img src=\"https://colab.research.google.com/assets/colab-badge.svg\" alt=\"Open In Colab\"/></a>"
      ]
    },
    {
      "cell_type": "code",
      "execution_count": 1,
      "metadata": {
        "id": "uHUKxIhnMgAd"
      },
      "outputs": [],
      "source": [
        "from sklearn.datasets import load_diabetes\n",
        "from sklearn.metrics import r2_score\n",
        "import numpy as np\n"
      ]
    },
    {
      "cell_type": "code",
      "source": [
        "X,y = load_diabetes(return_X_y=True)"
      ],
      "metadata": {
        "id": "mqVNlZrGMxxe"
      },
      "execution_count": 2,
      "outputs": []
    },
    {
      "cell_type": "code",
      "source": [
        "from sklearn.model_selection import train_test_split\n",
        "X_train,X_test,y_train,y_test = train_test_split(X,y,test_size=0.2,random_state=2)"
      ],
      "metadata": {
        "id": "KvWr26mDM3st"
      },
      "execution_count": 3,
      "outputs": []
    },
    {
      "cell_type": "code",
      "source": [
        "from sklearn.linear_model import SGDRegressor"
      ],
      "metadata": {
        "id": "1-xS_horNGlz"
      },
      "execution_count": 4,
      "outputs": []
    },
    {
      "cell_type": "code",
      "source": [
        "reg = SGDRegressor(penalty='l2',max_iter=500,eta0=0.1,learning_rate='constant', alpha=0.001)"
      ],
      "metadata": {
        "id": "YZpco3rhNPHi"
      },
      "execution_count": 8,
      "outputs": []
    },
    {
      "cell_type": "code",
      "source": [
        "reg.fit(X_train,y_train)\n",
        "\n",
        "y_pred = reg.predict(X_test)\n",
        "print('R2score : ', r2_score(y_test,y_pred))\n",
        "print(reg.coef_)\n",
        "print(reg.intercept_)"
      ],
      "metadata": {
        "colab": {
          "base_uri": "https://localhost:8080/"
        },
        "id": "oIA-7WgYNjth",
        "outputId": "9ea806da-833d-4fae-b2b2-3c68a4e7c1fc"
      },
      "execution_count": 9,
      "outputs": [
        {
          "output_type": "stream",
          "name": "stdout",
          "text": [
            "R2score :  0.43885697017907876\n",
            "[  34.788323   -105.87837718  376.35373348  259.64735863   -4.55538126\n",
            "  -59.2881793  -169.49407261  110.04556844  343.98421289  105.66783319]\n",
            "[159.00020107]\n"
          ]
        }
      ]
    },
    {
      "cell_type": "code",
      "source": [
        "#Applying gradient descent using ridge regression\n",
        "from sklearn.linear_model import Ridge\n"
      ],
      "metadata": {
        "id": "Y8KOARICOBwN"
      },
      "execution_count": 16,
      "outputs": []
    },
    {
      "cell_type": "code",
      "source": [
        "ridge = Ridge(alpha = 0.001, max_iter = 500, solver  = 'sparse_cg')"
      ],
      "metadata": {
        "id": "n255DB3pQcD1"
      },
      "execution_count": 17,
      "outputs": []
    },
    {
      "cell_type": "code",
      "source": [
        "ridge.fit(X_train,y_train)\n",
        "\n",
        "y_pred = ridge.predict(X_test)"
      ],
      "metadata": {
        "id": "vQ-pE6lDWWwI"
      },
      "execution_count": 18,
      "outputs": []
    },
    {
      "cell_type": "code",
      "source": [
        "print('R2score: ', r2_score(y_test,y_pred))\n",
        "print(ridge.coef_)\n",
        "print(ridge.intercept_)"
      ],
      "metadata": {
        "colab": {
          "base_uri": "https://localhost:8080/"
        },
        "id": "3sFyi61HW29d",
        "outputId": "38306592-c8e8-49b7-a62c-c03b43339684"
      },
      "execution_count": 19,
      "outputs": [
        {
          "output_type": "stream",
          "name": "stdout",
          "text": [
            "R2score:  0.44086171110501016\n",
            "[  -8.76148626 -204.3134038   518.38060964  339.96792698 -787.70050902\n",
            "  475.28218248  106.79525197  114.62926652  819.74572421   52.87335061]\n",
            "151.88534078043028\n"
          ]
        }
      ]
    },
    {
      "cell_type": "code",
      "source": [
        "class MyRidge:\n",
        "\n",
        "  def __init__(self,epochs,learning_rate,alpha):\n",
        "    self.epochs = epochs\n",
        "    self.lr = learning_rate\n",
        "    self.alpha = alpha\n",
        "    self.coef_ = None\n",
        "    self.intercept_ = None\n",
        "  def fit(self,X_train,y_train):\n",
        "    self.intercept_ = 0\n",
        "    self.coef_ = np.ones(X_train.shape[1])\n",
        "    theta = np.insert(self.coef_, 0, self.intercept_) #\n",
        "\n",
        "    X_train = np.insert(X_train,0,1 , axis =1)\n",
        "\n",
        "    for i in range(self.epochs):\n",
        "      theta_der = np.dot(X_train.T,X_train).dot(theta) - np.dot(X_train.T,y_train) + self.alpha*theta\n",
        "      theta = theta -self.lr*theta_der\n",
        "\n",
        "    self.coef_ = theta[1:]\n",
        "    self.intercept_ = theta[0]\n",
        "\n",
        "  def predict (self,X_test):\n",
        "    return np.dot(X_test,self.coef_) + self.intercept_\n",
        "\n",
        "\n",
        "\n"
      ],
      "metadata": {
        "id": "pX3lcFUJXJYo"
      },
      "execution_count": 39,
      "outputs": []
    },
    {
      "cell_type": "code",
      "source": [
        "rr = MyRidge(epochs=500, learning_rate= 0.001, alpha = 0.01)"
      ],
      "metadata": {
        "id": "G5evGzcgZY2D"
      },
      "execution_count": 48,
      "outputs": []
    },
    {
      "cell_type": "code",
      "source": [
        "rr.fit(X_train,y_train)"
      ],
      "metadata": {
        "id": "ANdAWEf0ZijN"
      },
      "execution_count": 49,
      "outputs": []
    },
    {
      "cell_type": "code",
      "source": [
        "rr.predict(X_test)"
      ],
      "metadata": {
        "colab": {
          "base_uri": "https://localhost:8080/"
        },
        "id": "JRGI5LgMZysT",
        "outputId": "0720c951-4ad7-495b-dd51-f17f240406cb"
      },
      "execution_count": 50,
      "outputs": [
        {
          "output_type": "execute_result",
          "data": {
            "text/plain": [
              "array([154.4186388 , 183.10504278, 146.04369968, 117.29496948,\n",
              "       221.75145918, 216.19010232, 111.72765677, 119.70660103,\n",
              "       100.75529064, 178.88388977, 165.29396303, 168.60757616,\n",
              "       180.71162695, 157.33187653, 223.366324  , 104.70461299,\n",
              "       174.69224815, 136.89953405, 144.60082746, 144.13009577,\n",
              "       128.83986412, 192.4059023 , 170.73652923, 175.76990384,\n",
              "       130.17115163, 208.15770453, 185.26854789, 134.26327482,\n",
              "        80.98814617, 229.167806  , 220.96901863, 127.04646597,\n",
              "        90.11025725, 122.81387792, 190.26594517, 165.35529731,\n",
              "       166.86588703, 191.01941048, 122.0670566 , 217.53672716,\n",
              "       135.73449977, 133.25270744, 180.06128922, 180.63324379,\n",
              "       165.27169962, 148.39283334, 171.15689795, 249.56489931,\n",
              "       127.41691456, 191.80854662, 215.1467739 , 128.57541932,\n",
              "       141.50470123, 160.34711731, 182.70920832, 126.71634328,\n",
              "       165.83379323, 100.4127963 , 157.25051395, 140.1985792 ,\n",
              "       162.1821931 , 172.5493649 , 121.07686954, 188.33603356,\n",
              "       160.03147122, 163.04115181, 146.40838992, 180.8730617 ,\n",
              "       125.04207162, 151.2755242 , 187.97131501, 176.15419603,\n",
              "       124.84252064, 148.56901353, 140.46375907, 121.71387249,\n",
              "        98.74919061, 104.33166471, 168.15234485, 103.15874495,\n",
              "       109.07646076, 119.73380708, 157.14329532, 235.12476889,\n",
              "       189.04765548, 139.29051823, 222.19883168, 172.65371099,\n",
              "       126.6938595 ])"
            ]
          },
          "metadata": {},
          "execution_count": 50
        }
      ]
    },
    {
      "cell_type": "code",
      "source": [
        "r2_score(y_test,rr.predict(X_test))"
      ],
      "metadata": {
        "colab": {
          "base_uri": "https://localhost:8080/"
        },
        "id": "ralSA4POZ5nY",
        "outputId": "30a28b92-8c33-444a-cf19-92f99e8a86c5"
      },
      "execution_count": 51,
      "outputs": [
        {
          "output_type": "execute_result",
          "data": {
            "text/plain": [
              "0.38585190363934574"
            ]
          },
          "metadata": {},
          "execution_count": 51
        }
      ]
    },
    {
      "cell_type": "code",
      "source": [
        "rr.coef_"
      ],
      "metadata": {
        "colab": {
          "base_uri": "https://localhost:8080/"
        },
        "id": "k0te8ApIZ_uM",
        "outputId": "24f863e0-5172-45b9-d211-de2a068cb0b2"
      },
      "execution_count": 52,
      "outputs": [
        {
          "output_type": "execute_result",
          "data": {
            "text/plain": [
              "array([  61.28928183,  -17.77746377,  242.8797234 ,  179.07760427,\n",
              "         41.54680665,   15.40700296, -134.16883852,  120.08058967,\n",
              "        227.40232803,  114.4264574 ])"
            ]
          },
          "metadata": {},
          "execution_count": 52
        }
      ]
    },
    {
      "cell_type": "code",
      "source": [
        "rr.intercept_"
      ],
      "metadata": {
        "colab": {
          "base_uri": "https://localhost:8080/"
        },
        "id": "yI3trIMaajzJ",
        "outputId": "3a8f2849-77f8-4d53-e029-d7d0519ff2e8"
      },
      "execution_count": 53,
      "outputs": [
        {
          "output_type": "execute_result",
          "data": {
            "text/plain": [
              "np.float64(151.8718188840102)"
            ]
          },
          "metadata": {},
          "execution_count": 53
        }
      ]
    },
    {
      "cell_type": "code",
      "source": [],
      "metadata": {
        "id": "PtmMpMpzak-r"
      },
      "execution_count": null,
      "outputs": []
    }
  ]
}